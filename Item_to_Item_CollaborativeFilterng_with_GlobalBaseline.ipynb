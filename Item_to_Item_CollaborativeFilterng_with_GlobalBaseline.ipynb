{
  "nbformat": 4,
  "nbformat_minor": 0,
  "metadata": {
    "colab": {
      "name": "Item_to_Item_CollaborativeFilterng_with_GlobalBaseline.ipynb",
      "provenance": [],
      "collapsed_sections": [],
      "authorship_tag": "ABX9TyOIkaVBvAEDRNDNQ+gyo6F4",
      "include_colab_link": true
    },
    "kernelspec": {
      "name": "python3",
      "display_name": "Python 3"
    },
    "language_info": {
      "name": "python"
    }
  },
  "cells": [
    {
      "cell_type": "markdown",
      "metadata": {
        "id": "view-in-github",
        "colab_type": "text"
      },
      "source": [
        "<a href=\"https://colab.research.google.com/github/alienverarslan/Movie_Recommender_Systems/blob/main/Item_to_Item_CollaborativeFilterng_with_GlobalBaseline.ipynb\" target=\"_parent\"><img src=\"https://colab.research.google.com/assets/colab-badge.svg\" alt=\"Open In Colab\"/></a>"
      ]
    },
    {
      "cell_type": "code",
      "metadata": {
        "id": "cJWn-88ATgan"
      },
      "source": [
        "import pandas as pd\n",
        "import numpy as np\n",
        "from sklearn import neighbors as nei\n",
        "from sklearn import metrics as met"
      ],
      "execution_count": 1,
      "outputs": []
    },
    {
      "cell_type": "code",
      "metadata": {
        "colab": {
          "base_uri": "https://localhost:8080/",
          "height": 195
        },
        "id": "J5Yg78t5UD94",
        "outputId": "74b52f58-65a4-4576-c946-a551d403a554"
      },
      "source": [
        "data = pd.read_csv(\"train.csv\")\n",
        "data.head()"
      ],
      "execution_count": 2,
      "outputs": [
        {
          "output_type": "execute_result",
          "data": {
            "text/html": [
              "<div>\n",
              "<style scoped>\n",
              "    .dataframe tbody tr th:only-of-type {\n",
              "        vertical-align: middle;\n",
              "    }\n",
              "\n",
              "    .dataframe tbody tr th {\n",
              "        vertical-align: top;\n",
              "    }\n",
              "\n",
              "    .dataframe thead th {\n",
              "        text-align: right;\n",
              "    }\n",
              "</style>\n",
              "<table border=\"1\" class=\"dataframe\">\n",
              "  <thead>\n",
              "    <tr style=\"text-align: right;\">\n",
              "      <th></th>\n",
              "      <th>userID</th>\n",
              "      <th>movieID</th>\n",
              "      <th>rating</th>\n",
              "    </tr>\n",
              "  </thead>\n",
              "  <tbody>\n",
              "    <tr>\n",
              "      <th>0</th>\n",
              "      <td>4490</td>\n",
              "      <td>2109</td>\n",
              "      <td>4</td>\n",
              "    </tr>\n",
              "    <tr>\n",
              "      <th>1</th>\n",
              "      <td>5839</td>\n",
              "      <td>3471</td>\n",
              "      <td>4</td>\n",
              "    </tr>\n",
              "    <tr>\n",
              "      <th>2</th>\n",
              "      <td>5382</td>\n",
              "      <td>150</td>\n",
              "      <td>3</td>\n",
              "    </tr>\n",
              "    <tr>\n",
              "      <th>3</th>\n",
              "      <td>1262</td>\n",
              "      <td>1237</td>\n",
              "      <td>5</td>\n",
              "    </tr>\n",
              "    <tr>\n",
              "      <th>4</th>\n",
              "      <td>6005</td>\n",
              "      <td>2273</td>\n",
              "      <td>4</td>\n",
              "    </tr>\n",
              "  </tbody>\n",
              "</table>\n",
              "</div>"
            ],
            "text/plain": [
              "   userID  movieID  rating\n",
              "0    4490     2109       4\n",
              "1    5839     3471       4\n",
              "2    5382      150       3\n",
              "3    1262     1237       5\n",
              "4    6005     2273       4"
            ]
          },
          "metadata": {
            "tags": []
          },
          "execution_count": 2
        }
      ]
    },
    {
      "cell_type": "code",
      "metadata": {
        "colab": {
          "base_uri": "https://localhost:8080/",
          "height": 284
        },
        "id": "cttksjirXGj4",
        "outputId": "0a89b8d2-2be8-4a10-d75b-f8c95ff71530"
      },
      "source": [
        "data.describe()"
      ],
      "execution_count": 3,
      "outputs": [
        {
          "output_type": "execute_result",
          "data": {
            "text/html": [
              "<div>\n",
              "<style scoped>\n",
              "    .dataframe tbody tr th:only-of-type {\n",
              "        vertical-align: middle;\n",
              "    }\n",
              "\n",
              "    .dataframe tbody tr th {\n",
              "        vertical-align: top;\n",
              "    }\n",
              "\n",
              "    .dataframe thead th {\n",
              "        text-align: right;\n",
              "    }\n",
              "</style>\n",
              "<table border=\"1\" class=\"dataframe\">\n",
              "  <thead>\n",
              "    <tr style=\"text-align: right;\">\n",
              "      <th></th>\n",
              "      <th>userID</th>\n",
              "      <th>movieID</th>\n",
              "      <th>rating</th>\n",
              "    </tr>\n",
              "  </thead>\n",
              "  <tbody>\n",
              "    <tr>\n",
              "      <th>count</th>\n",
              "      <td>990209.000000</td>\n",
              "      <td>990209.00000</td>\n",
              "      <td>990209.000000</td>\n",
              "    </tr>\n",
              "    <tr>\n",
              "      <th>mean</th>\n",
              "      <td>3016.430061</td>\n",
              "      <td>1865.56350</td>\n",
              "      <td>3.581463</td>\n",
              "    </tr>\n",
              "    <tr>\n",
              "      <th>std</th>\n",
              "      <td>1728.237347</td>\n",
              "      <td>1096.00108</td>\n",
              "      <td>1.117173</td>\n",
              "    </tr>\n",
              "    <tr>\n",
              "      <th>min</th>\n",
              "      <td>1.000000</td>\n",
              "      <td>1.00000</td>\n",
              "      <td>1.000000</td>\n",
              "    </tr>\n",
              "    <tr>\n",
              "      <th>25%</th>\n",
              "      <td>1565.000000</td>\n",
              "      <td>1030.00000</td>\n",
              "      <td>3.000000</td>\n",
              "    </tr>\n",
              "    <tr>\n",
              "      <th>50%</th>\n",
              "      <td>2970.000000</td>\n",
              "      <td>1835.00000</td>\n",
              "      <td>4.000000</td>\n",
              "    </tr>\n",
              "    <tr>\n",
              "      <th>75%</th>\n",
              "      <td>4535.000000</td>\n",
              "      <td>2770.00000</td>\n",
              "      <td>4.000000</td>\n",
              "    </tr>\n",
              "    <tr>\n",
              "      <th>max</th>\n",
              "      <td>6040.000000</td>\n",
              "      <td>3952.00000</td>\n",
              "      <td>5.000000</td>\n",
              "    </tr>\n",
              "  </tbody>\n",
              "</table>\n",
              "</div>"
            ],
            "text/plain": [
              "              userID       movieID         rating\n",
              "count  990209.000000  990209.00000  990209.000000\n",
              "mean     3016.430061    1865.56350       3.581463\n",
              "std      1728.237347    1096.00108       1.117173\n",
              "min         1.000000       1.00000       1.000000\n",
              "25%      1565.000000    1030.00000       3.000000\n",
              "50%      2970.000000    1835.00000       4.000000\n",
              "75%      4535.000000    2770.00000       4.000000\n",
              "max      6040.000000    3952.00000       5.000000"
            ]
          },
          "metadata": {
            "tags": []
          },
          "execution_count": 3
        }
      ]
    },
    {
      "cell_type": "code",
      "metadata": {
        "colab": {
          "base_uri": "https://localhost:8080/"
        },
        "id": "kOD9Z5_UXLp6",
        "outputId": "4a0214ef-7de4-46dc-d438-363a5da256f7"
      },
      "source": [
        "data.info()"
      ],
      "execution_count": 4,
      "outputs": [
        {
          "output_type": "stream",
          "text": [
            "<class 'pandas.core.frame.DataFrame'>\n",
            "RangeIndex: 990209 entries, 0 to 990208\n",
            "Data columns (total 3 columns):\n",
            " #   Column   Non-Null Count   Dtype\n",
            "---  ------   --------------   -----\n",
            " 0   userID   990209 non-null  int64\n",
            " 1   movieID  990209 non-null  int64\n",
            " 2   rating   990209 non-null  int64\n",
            "dtypes: int64(3)\n",
            "memory usage: 22.7 MB\n"
          ],
          "name": "stdout"
        }
      ]
    },
    {
      "cell_type": "code",
      "metadata": {
        "id": "Lv1AqHVjhiu3"
      },
      "source": [
        "#Train test split\n",
        "test = data.sample(2000, random_state=42)\n",
        "train = data.drop(test.index)\n",
        "U_train = train.pivot(\"movieID\", \"userID\", \"rating\")"
      ],
      "execution_count": 5,
      "outputs": []
    },
    {
      "cell_type": "code",
      "metadata": {
        "colab": {
          "base_uri": "https://localhost:8080/"
        },
        "id": "D8iwTfF5hxQt",
        "outputId": "d26080d4-9b30-434d-dbd0-c007af023eba"
      },
      "source": [
        "print(\"All Data Utility Matrix:\", data.pivot(\"movieID\", \"userID\", \"rating\").shape)\n",
        "print(\"Train Utility Matrix:\", U_train.shape)"
      ],
      "execution_count": 6,
      "outputs": [
        {
          "output_type": "stream",
          "text": [
            "All Data Utility Matrix: (3705, 6040)\n",
            "Train Utility Matrix: (3705, 6040)\n"
          ],
          "name": "stdout"
        }
      ]
    },
    {
      "cell_type": "code",
      "metadata": {
        "id": "ZT---GHomGmS"
      },
      "source": [
        "#Define the Algorithm\n",
        "def CollaborativeFiltering_GB(train_df, test_df, k=20, met='minkowski'):\n",
        "  global_avereage = np.nanmean(np.array(train_df))\n",
        "  myPreds = []\n",
        "  realLabels = []\n",
        "  for idx in test_df.index:\n",
        "    movieId = test_df[\"movieID\"].loc[idx]\n",
        "    userId = test_df[\"userID\"].loc[idx]\n",
        "\n",
        "    user_avg_rating = np.nanmean(train_df.loc[:,userId].values)\n",
        "    user_deviation = user_avg_rating - global_avereage \n",
        "\n",
        "    movie_avg_rating = train_df.loc[:,movieId].mean()\n",
        "    \n",
        "    movie_deviation = movie_avg_rating - global_avereage\n",
        "\n",
        "    baseline_estimate = global_avereage + movie_deviation + user_deviation    \n",
        "\n",
        "    filtered_train = train_df.dropna(subset=[userId])\n",
        "    filtered_train = filtered_train - filtered_train.mean(axis=1).values.reshape(-1,1)\n",
        "    filtered_train.fillna(0, inplace=True)    \n",
        "\n",
        "    if k < len(filtered_train):\n",
        "      nn = nei.NearestNeighbors(n_neighbors=k, metric=met, n_jobs=-1)\n",
        "      nn.fit(filtered_train)   \n",
        "\n",
        "      test_row = train_df.loc[movieId:movieId, :].copy()\n",
        "      test_row[userId] = np.nan\n",
        "      test_row = test_row - test_row.mean(axis=1).values.reshape(-1,1)\n",
        "      test_row.fillna(0, inplace=True)\n",
        "\n",
        "      distances, indices = nn.kneighbors(test_row, return_distance=True)\n",
        "\n",
        "      movieIds = filtered_train.iloc[indices[0], :].index\n",
        "\n",
        "      local_neighborhood = np.average(train_df.loc[movieIds, userId].values - baseline_estimate, weights=(1 - distances[0]))\n",
        "\n",
        "      pred = baseline_estimate + local_neighborhood\n",
        "      \n",
        "    elif len(filtered_train) >= 10:\n",
        "      nn = nei.NearestNeighbors(n_neighbors=len(filtered_train), metric=met, n_jobs=-1)\n",
        "      nn.fit(filtered_train) \n",
        "\n",
        "      test_row = train_df.loc[movieId:movieId, :].copy()\n",
        "      test_row[userId] = np.nan\n",
        "      test_row = test_row - test_row.mean(axis=1).values.reshape(-1,1)\n",
        "      test_row.fillna(0, inplace=True)\n",
        "\n",
        "      distances, indices = nn.kneighbors(test_row, return_distance=True)\n",
        "\n",
        "      movieIds = filtered_train.iloc[indices[0], :].index\n",
        "      \n",
        "      local_neighborhood = np.average(train_df.loc[movieIds, userId].values - baseline_estimate, weights=(1 - distances[0]))\n",
        "\n",
        "      pred = baseline_estimate + local_neighborhood\n",
        "\n",
        "    else:\n",
        "      pred = baseline_estimate\n",
        "\n",
        "\n",
        "    if pred > 5:\n",
        "      pred = 5\n",
        "    if pred < 1:\n",
        "      pred = 1\n",
        "\n",
        "    myPreds.append(pred)\n",
        "\n",
        "    real_label = test_df[\"rating\"].loc[idx]\n",
        "    realLabels.append(real_label)\n",
        "  \n",
        "  return [realLabels, myPreds] \n",
        "  "
      ],
      "execution_count": 60,
      "outputs": []
    },
    {
      "cell_type": "code",
      "metadata": {
        "id": "f604fZm36lhR",
        "colab": {
          "base_uri": "https://localhost:8080/"
        },
        "outputId": "e9717b0c-8e98-4973-d127-69dfe53b567c"
      },
      "source": [
        "#Finding the optimal parameters with the first 500 ratings of the test data\n",
        "metrics = ['cosine', \"minkowski\"]\n",
        "k_size = [10, 15, 20, 25, 30, 40, 50]\n",
        "params = []\n",
        "for m in metrics:\n",
        "  for k in k_size:\n",
        "    params.append([m, k])\n",
        "\n",
        "print(\"params                    rmse\")\n",
        "results = []\n",
        "for i in range(len(params)):\n",
        "  labels, preds = CollaborativeFiltering_GB(train_df=U_train, test_df=test[:500], met=params[i][0], k=params[i][1])\n",
        "  results.append(met.mean_squared_error(labels, preds, squared=False))  \n",
        "  print(params[i], results[i])"
      ],
      "execution_count": 62,
      "outputs": [
        {
          "output_type": "stream",
          "text": [
            "params                    rmse\n",
            "['cosine', 10] 0.8645186302458518\n",
            "['cosine', 15] 0.8601450469690083\n",
            "['cosine', 20] 0.8586520211991988\n",
            "['cosine', 25] 0.8636390257226119\n",
            "['cosine', 30] 0.8666540054375494\n",
            "['cosine', 40] 0.8724940715913292\n",
            "['cosine', 50] 0.8810464938283162\n",
            "['minkowski', 10] 1.1528769671466366\n",
            "['minkowski', 15] 1.1327905293224705\n",
            "['minkowski', 20] 1.1194356635582652\n",
            "['minkowski', 25] 1.1056510948466876\n",
            "['minkowski', 30] 1.092826077291299\n",
            "['minkowski', 40] 1.0877109935708014\n",
            "['minkowski', 50] 1.0813488842681993\n"
          ],
          "name": "stdout"
        }
      ]
    },
    {
      "cell_type": "code",
      "metadata": {
        "colab": {
          "base_uri": "https://localhost:8080/"
        },
        "id": "_5Oq3Qd9c1Nn",
        "outputId": "861fd389-eaf1-4c71-b88f-c70e62f6a31b"
      },
      "source": [
        "best_params = params[np.argmin(results)]\n",
        "best_score = results[np.argmin(results)]\n",
        "best_params"
      ],
      "execution_count": 63,
      "outputs": [
        {
          "output_type": "execute_result",
          "data": {
            "text/plain": [
              "['cosine', 20]"
            ]
          },
          "metadata": {
            "tags": []
          },
          "execution_count": 63
        }
      ]
    },
    {
      "cell_type": "code",
      "metadata": {
        "colab": {
          "base_uri": "https://localhost:8080/"
        },
        "id": "Xnu85MlpdE16",
        "outputId": "ed2f01a8-a61a-49dd-a02f-c36de7dea094"
      },
      "source": [
        "#Fine Tune the optimal parameters \n",
        "metrics = ['cosine']\n",
        "k_size = [17, 18, 19, 21, 22, 23]\n",
        "params = []\n",
        "for m in metrics:\n",
        "  for k in k_size:\n",
        "    params.append([m, k])\n",
        "\n",
        "print(\"params                    rmse\")\n",
        "results2 = []\n",
        "for i in range(len(params)):\n",
        "  labels, preds = CollaborativeFiltering_GB(train_df=U_train, test_df=test[:500], met=params[i][0], k=params[i][1])\n",
        "  results2.append(met.mean_squared_error(labels, preds, squared=False))  \n",
        "  print(params[i], results2[i])"
      ],
      "execution_count": 64,
      "outputs": [
        {
          "output_type": "stream",
          "text": [
            "params                    rmse\n",
            "['cosine', 17] 0.8586020631867272\n",
            "['cosine', 18] 0.8575839777786033\n",
            "['cosine', 19] 0.8577686564961469\n",
            "['cosine', 21] 0.8604309355958599\n",
            "['cosine', 22] 0.862125718203779\n",
            "['cosine', 23] 0.8619870076275947\n"
          ],
          "name": "stdout"
        }
      ]
    },
    {
      "cell_type": "code",
      "metadata": {
        "colab": {
          "base_uri": "https://localhost:8080/"
        },
        "id": "dx2PBsPD9aAC",
        "outputId": "aa409a5b-cff6-418c-dc34-23ce4fd02692"
      },
      "source": [
        "best_params2 = params[np.argmin(results2)]\n",
        "best_score2 = results2[np.argmin(results2)]\n",
        "print(\"Best Parameters:\", best_params2)\n",
        "print(\"Best RMSE:\", best_score2)"
      ],
      "execution_count": 68,
      "outputs": [
        {
          "output_type": "stream",
          "text": [
            "Best Parameters: ['cosine', 18]\n",
            "Best RMSE: 0.8575839777786033\n"
          ],
          "name": "stdout"
        }
      ]
    },
    {
      "cell_type": "code",
      "metadata": {
        "colab": {
          "base_uri": "https://localhost:8080/"
        },
        "id": "hLQM7GeR90DS",
        "outputId": "3386d574-f3cb-4dda-f874-7c7a5d9b777d"
      },
      "source": [
        "#Predict the whole test data\n",
        "labels, preds = CollaborativeFiltering_GB(train_df=U_train, test_df=test, met=best_params2[0], k=best_params2[1])\n",
        "print(\"RMSE on test data:\",met.mean_squared_error(labels, preds, squared=False))  \n"
      ],
      "execution_count": 70,
      "outputs": [
        {
          "output_type": "stream",
          "text": [
            "RMSE on test data: 0.8721163224820848\n"
          ],
          "name": "stdout"
        }
      ]
    }
  ]
}